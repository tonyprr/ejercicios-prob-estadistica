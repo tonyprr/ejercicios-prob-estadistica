{
 "cells": [
  {
   "cell_type": "markdown",
   "metadata": {},
   "source": [
    "## Variaciones, permutaciones y combinaciones"
   ]
  },
  {
   "cell_type": "code",
   "execution_count": 4,
   "metadata": {},
   "outputs": [],
   "source": [
    "from operator import sub, mul, floordiv"
   ]
  },
  {
   "cell_type": "code",
   "execution_count": 5,
   "metadata": {},
   "outputs": [],
   "source": [
    "fact = lambda n: 1 if n == 1 else mul(n, fact(sub(n, 1)))"
   ]
  },
  {
   "cell_type": "code",
   "execution_count": 6,
   "metadata": {},
   "outputs": [],
   "source": [
    "var = lambda n, r : floordiv(fact(n), fact(n-r))\n",
    "per = lambda n : fact(n)\n",
    "comb = lambda n, r : floordiv(var(n, r), per(r))"
   ]
  },
  {
   "cell_type": "code",
   "execution_count": 12,
   "metadata": {},
   "outputs": [
    {
     "name": "stdout",
     "output_type": "stream",
     "text": [
      "Ingrese el nro. de elementos total: 6\n"
     ]
    }
   ],
   "source": [
    "n = int(input(\"Ingrese el nro. de elementos total: \"))"
   ]
  },
  {
   "cell_type": "code",
   "execution_count": 13,
   "metadata": {},
   "outputs": [
    {
     "name": "stdout",
     "output_type": "stream",
     "text": [
      "Ingrese el nro. de elementos del grupo: 2\n"
     ]
    }
   ],
   "source": [
    "r = int(input(\"Ingrese el nro. de elementos del grupo: \"))"
   ]
  },
  {
   "cell_type": "code",
   "execution_count": 15,
   "metadata": {},
   "outputs": [
    {
     "name": "stdout",
     "output_type": "stream",
     "text": [
      "V{n},{r} = 30\n",
      "P{n} = 720\n",
      "C{n},{r} = 15\n"
     ]
    }
   ],
   "source": [
    "print('V{n},{r} =', format(var(n, r)))\n",
    "print('P{n} =', format(per(n)))\n",
    "print('C{n},{r} =', format(comb(n, r)))"
   ]
  }
 ],
 "metadata": {
  "kernelspec": {
   "display_name": "Python 3",
   "language": "python",
   "name": "python3"
  },
  "language_info": {
   "codemirror_mode": {
    "name": "ipython",
    "version": 3
   },
   "file_extension": ".py",
   "mimetype": "text/x-python",
   "name": "python",
   "nbconvert_exporter": "python",
   "pygments_lexer": "ipython3",
   "version": "3.7.0"
  }
 },
 "nbformat": 4,
 "nbformat_minor": 2
}
